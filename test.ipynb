{
 "cells": [
  {
   "cell_type": "code",
   "execution_count": 5,
   "metadata": {},
   "outputs": [],
   "source": [
    "import sys\n",
    "from PyPDF2 import PdfReader\n",
    "from markdownify import markdownify as md\n",
    "import os"
   ]
  },
  {
   "cell_type": "code",
   "execution_count": 9,
   "metadata": {},
   "outputs": [],
   "source": [
    "def extract_text_from_pdf(pdf_path):\n",
    "    pdf = PdfReader(pdf_path)\n",
    "    text = \"\"\n",
    "    for page in pdf.pages:\n",
    "        text += page.extract_text()\n",
    "    return text\n",
    "\n",
    "def convert_to_markdown(text):\n",
    "    return md(text)\n",
    "\n",
    "\n",
    "def get_pdf_files(directory):\n",
    "    return [f for f in os.listdir(directory) if f.endswith('.pdf')]\n",
    "\n",
    "def save_markdown_file(markdown_text, output_path):\n",
    "    with open(output_path, 'w') as f:\n",
    "        f.write(markdown_text)\n",
    "\n",
    "input_directory = \"/Users/armandmorin/Documents/GitHub/bofa-docs\"\n",
    "output_directory = os.path.join(input_directory, 'out')\n",
    "\n",
    "if not os.path.exists(output_directory):\n",
    "    os.makedirs(output_directory)\n",
    "\n"
   ]
  },
  {
   "cell_type": "code",
   "execution_count": 3,
   "metadata": {},
   "outputs": [
    {
     "name": "stdout",
     "output_type": "stream",
     "text": [
      "Converted Market regimes Refs with abstracts.md to /Users/armandmorin/Documents/GitHub/bofa-docs/out/html/Market regimes Refs with abstracts.html\n",
      "Converted Financial derivatives.md to /Users/armandmorin/Documents/GitHub/bofa-docs/out/html/Financial derivatives.html\n",
      "Converted Data augment and Scenario generation Refs with abstracts.md to /Users/armandmorin/Documents/GitHub/bofa-docs/out/html/Data augment and Scenario generation Refs with abstracts.html\n",
      "Converted Financial derivatives Refs with abstracts.md to /Users/armandmorin/Documents/GitHub/bofa-docs/out/html/Financial derivatives Refs with abstracts.html\n",
      "Converted ESG investing Refs with abstracts.md to /Users/armandmorin/Documents/GitHub/bofa-docs/out/html/ESG investing Refs with abstracts.html\n",
      "Converted ESG investing.md to /Users/armandmorin/Documents/GitHub/bofa-docs/out/html/ESG investing.html\n",
      "Converted Data augment and Scenario generation.md to /Users/armandmorin/Documents/GitHub/bofa-docs/out/html/Data augment and Scenario generation.html\n",
      "Converted Market regimes.md to /Users/armandmorin/Documents/GitHub/bofa-docs/out/html/Market regimes.html\n",
      "Converted Network analysis and clustering.md to /Users/armandmorin/Documents/GitHub/bofa-docs/out/html/Network analysis and clustering.html\n",
      "Converted Portfolio constr and mngnt Refs with abstracts.md to /Users/armandmorin/Documents/GitHub/bofa-docs/out/html/Portfolio constr and mngnt Refs with abstracts.html\n",
      "Converted Forecast time series Refs with abstracts.md to /Users/armandmorin/Documents/GitHub/bofa-docs/out/html/Forecast time series Refs with abstracts.html\n",
      "Converted Retirement portfolios.md to /Users/armandmorin/Documents/GitHub/bofa-docs/out/html/Retirement portfolios.html\n",
      "Converted Network analysis and clustering Refs with abstracts.md to /Users/armandmorin/Documents/GitHub/bofa-docs/out/html/Network analysis and clustering Refs with abstracts.html\n",
      "Converted Portfolio diversification.md to /Users/armandmorin/Documents/GitHub/bofa-docs/out/html/Portfolio diversification.html\n",
      "Converted Forecast time series.md to /Users/armandmorin/Documents/GitHub/bofa-docs/out/html/Forecast time series.html\n",
      "Converted RL Refs with abstracts.md to /Users/armandmorin/Documents/GitHub/bofa-docs/out/html/RL Refs with abstracts.html\n",
      "Converted Retirement portfolios Refs with abstracts.md to /Users/armandmorin/Documents/GitHub/bofa-docs/out/html/Retirement portfolios Refs with abstracts.html\n",
      "Converted RL.md to /Users/armandmorin/Documents/GitHub/bofa-docs/out/html/RL.html\n",
      "Converted Portfolio constr and mngnt.md to /Users/armandmorin/Documents/GitHub/bofa-docs/out/html/Portfolio constr and mngnt.html\n",
      "Converted Portfolio diversification Refs with abstracts.md to /Users/armandmorin/Documents/GitHub/bofa-docs/out/html/Portfolio diversification Refs with abstracts.html\n"
     ]
    }
   ],
   "source": [
    "import os\n",
    "import markdown\n",
    "\n",
    "input_directory = \"/Users/armandmorin/Documents/GitHub/bofa-docs/out\"\n",
    "output_directory = \"/Users/armandmorin/Documents/GitHub/bofa-docs/out/html\"\n",
    "\n",
    "if not os.path.exists(output_directory):\n",
    "    os.makedirs(output_directory)\n",
    "\n",
    "# List all Markdown files and convert each to HTML\n",
    "for md_file in os.listdir(input_directory):\n",
    "    if md_file.endswith('.md'):\n",
    "        # Read the Markdown file\n",
    "        with open(os.path.join(input_directory, md_file), 'r', encoding='utf-8') as f:\n",
    "            md_text = f.read()\n",
    "        \n",
    "        # Convert Markdown to HTML\n",
    "        html_content = markdown.markdown(md_text)\n",
    "        \n",
    "        # Write to HTML file\n",
    "        html_file = os.path.join(output_directory, md_file.replace('.md', '.html'))\n",
    "        with open(html_file, 'w', encoding='utf-8') as f:\n",
    "            f.write(html_content)\n",
    "        \n",
    "        print(f\"Converted {md_file} to {html_file}\")\n"
   ]
  },
  {
   "cell_type": "code",
   "execution_count": 10,
   "metadata": {},
   "outputs": [
    {
     "data": {
      "text/plain": [
       "['ESG investing Refs with abstracts.pdf',\n",
       " 'RL Refs with abstracts.pdf',\n",
       " 'Network analysis and clustering Refs with abstracts.pdf',\n",
       " 'Financial derivatives.pdf',\n",
       " 'Portfolio constr and mngnt.pdf',\n",
       " 'Portfolio diversification.pdf',\n",
       " 'Retirement portfolios Refs with abstracts.pdf',\n",
       " 'Data augment and Scenario generation.pdf',\n",
       " 'Portfolio diversification Refs with abstracts.pdf',\n",
       " 'RL.pdf',\n",
       " 'Data augment and Scenario generation Refs with abstracts.pdf',\n",
       " 'Market regimes.pdf',\n",
       " 'Retirement portfolios.pdf',\n",
       " 'Forecast time series Refs with abstracts.pdf',\n",
       " 'Forecast time series.pdf',\n",
       " 'Market regimes Refs with abstracts.pdf',\n",
       " 'ESG investing.pdf',\n",
       " 'Portfolio constr and mngnt Refs with abstracts.pdf',\n",
       " 'Network analysis and clustering.pdf',\n",
       " 'Financial derivatives Refs with abstracts.pdf']"
      ]
     },
     "execution_count": 10,
     "metadata": {},
     "output_type": "execute_result"
    }
   ],
   "source": [
    "pdf_files = get_pdf_files(input_directory)\n",
    "pdf_files"
   ]
  },
  {
   "cell_type": "code",
   "execution_count": null,
   "metadata": {},
   "outputs": [],
   "source": []
  },
  {
   "cell_type": "code",
   "execution_count": 11,
   "metadata": {},
   "outputs": [
    {
     "name": "stdout",
     "output_type": "stream",
     "text": [
      "Converting ESG investing Refs with abstracts.pdf\n",
      "Converting RL Refs with abstracts.pdf\n",
      "Converting Network analysis and clustering Refs with abstracts.pdf\n",
      "Converting Financial derivatives.pdf\n",
      "Converting Portfolio constr and mngnt.pdf\n",
      "Converting Portfolio diversification.pdf\n",
      "Converting Retirement portfolios Refs with abstracts.pdf\n",
      "Converting Data augment and Scenario generation.pdf\n",
      "Converting Portfolio diversification Refs with abstracts.pdf\n",
      "Converting RL.pdf\n",
      "Converting Data augment and Scenario generation Refs with abstracts.pdf\n",
      "Converting Market regimes.pdf\n",
      "Converting Retirement portfolios.pdf\n",
      "Converting Forecast time series Refs with abstracts.pdf\n",
      "Converting Forecast time series.pdf\n",
      "Converting Market regimes Refs with abstracts.pdf\n",
      "Converting ESG investing.pdf\n",
      "Converting Portfolio constr and mngnt Refs with abstracts.pdf\n",
      "Converting Network analysis and clustering.pdf\n",
      "Converting Financial derivatives Refs with abstracts.pdf\n"
     ]
    }
   ],
   "source": [
    "pdf_files = get_pdf_files(input_directory)\n",
    "\n",
    "for pdf_file in pdf_files:\n",
    "    print('Converting', pdf_file)\n",
    "    pdf_path = os.path.join(input_directory, pdf_file)\n",
    "    text = extract_text_from_pdf(pdf_path)\n",
    "    markdown_text = convert_to_markdown(text)\n",
    "    output_path = os.path.join(output_directory, pdf_file.replace('.pdf', '.md'))\n",
    "    save_markdown_file(markdown_text, output_path)"
   ]
  }
 ],
 "metadata": {
  "kernelspec": {
   "display_name": "uv3",
   "language": "python",
   "name": "python3"
  },
  "language_info": {
   "codemirror_mode": {
    "name": "ipython",
    "version": 3
   },
   "file_extension": ".py",
   "mimetype": "text/x-python",
   "name": "python",
   "nbconvert_exporter": "python",
   "pygments_lexer": "ipython3",
   "version": "3.10.13"
  }
 },
 "nbformat": 4,
 "nbformat_minor": 2
}
