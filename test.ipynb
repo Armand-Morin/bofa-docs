{
 "cells": [
  {
   "cell_type": "code",
   "execution_count": 5,
   "metadata": {},
   "outputs": [],
   "source": [
    "import sys\n",
    "from PyPDF2 import PdfReader\n",
    "from markdownify import markdownify as md\n",
    "import os"
   ]
  },
  {
   "cell_type": "code",
   "execution_count": null,
   "metadata": {},
   "outputs": [],
   "source": [
    "def extract_text_from_pdf(pdf_path):\n",
    "    pdf = PdfReader(pdf_path)\n",
    "    text = \"\"\n",
    "    for page in pdf.pages:\n",
    "        text += page.extract_text()\n",
    "    return text\n",
    "\n",
    "def convert_to_markdown(text):\n",
    "    return md(text)\n",
    "\n",
    "\n",
    "def get_pdf_files(directory):\n",
    "    return [f for f in os.listdir(directory) if f.endswith('.pdf')]\n",
    "\n",
    "def save_markdown_file(markdown_text, output_path):\n",
    "    with open(output_path, 'w') as f:\n",
    "        f.write(markdown_text)\n",
    "\n",
    "input_directory = \"/Users/armandmorin/Documents/GitHub/bofa-docs\"\n",
    "output_directory = os.path.join(input_directory, 'out')\n",
    "\n",
    "if not os.path.exists(output_directory):\n",
    "    os.makedirs(output_directory)\n",
    "\n"
   ]
  },
  {
   "cell_type": "code",
   "execution_count": null,
   "metadata": {},
   "outputs": [
    {
     "data": {
      "text/plain": [
       "['ESG investing Refs with abstracts.pdf',\n",
       " 'RL Refs with abstracts.pdf',\n",
       " 'Network analysis and clustering Refs with abstracts.pdf',\n",
       " 'Financial derivatives.pdf',\n",
       " 'Portfolio constr and mngnt.pdf',\n",
       " 'Portfolio diversification.pdf',\n",
       " 'Retirement portfolios Refs with abstracts.pdf',\n",
       " 'Data augment and Scenario generation.pdf',\n",
       " 'Portfolio diversification Refs with abstracts.pdf',\n",
       " 'RL.pdf',\n",
       " 'Data augment and Scenario generation Refs with abstracts.pdf',\n",
       " 'Market regimes.pdf',\n",
       " 'Retirement portfolios.pdf',\n",
       " 'Forecast time series Refs with abstracts.pdf',\n",
       " 'Forecast time series.pdf',\n",
       " 'Market regimes Refs with abstracts.pdf',\n",
       " 'ESG investing.pdf',\n",
       " 'Portfolio constr and mngnt Refs with abstracts.pdf',\n",
       " 'Network analysis and clustering.pdf',\n",
       " 'Financial derivatives Refs with abstracts.pdf']"
      ]
     },
     "execution_count": 8,
     "metadata": {},
     "output_type": "execute_result"
    }
   ],
   "source": [
    "pdf_files = get_pdf_files(input_directory)\n",
    "pdf_files"
   ]
  },
  {
   "cell_type": "code",
   "execution_count": null,
   "metadata": {},
   "outputs": [],
   "source": [
    "pdf_files = get_pdf_files(input_directory)\n",
    "\n",
    "for pdf_file in pdf_files:\n",
    "    print('Converting', pdf_file)\n",
    "    pdf_path = os.path.join(input_directory, pdf_file)\n",
    "    text = extract_text_from_pdf(pdf_path)\n",
    "    markdown_text = convert_to_markdown(text)\n",
    "    output_path = os.path.join(output_directory, pdf_file.replace('.pdf', '.md'))\n",
    "    save_markdown_file(markdown_text, output_path)"
   ]
  }
 ],
 "metadata": {
  "kernelspec": {
   "display_name": "uv3",
   "language": "python",
   "name": "python3"
  },
  "language_info": {
   "codemirror_mode": {
    "name": "ipython",
    "version": 3
   },
   "file_extension": ".py",
   "mimetype": "text/x-python",
   "name": "python",
   "nbconvert_exporter": "python",
   "pygments_lexer": "ipython3",
   "version": "3.10.13"
  }
 },
 "nbformat": 4,
 "nbformat_minor": 2
}
